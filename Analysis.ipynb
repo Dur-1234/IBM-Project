{
 "cells": [
  {
   "cell_type": "code",
   "execution_count": 1,
   "id": "3a0b4926",
   "metadata": {},
   "outputs": [],
   "source": [
    "import cv2\n",
    "import numpy as np\n",
    "import matplotlib.pyplot as plt"
   ]
  },
  {
   "cell_type": "code",
   "execution_count": 2,
   "id": "c856c902",
   "metadata": {},
   "outputs": [],
   "source": [
    "def canny_edge_detector(image):\n",
    "    gray_image = cv2.cvtColor(image, cv2.COLOR_RGB2GRAY)\n",
    "    blur = cv2.GaussianBlur(gray_image, (5, 5), 0)\n",
    "    canny = cv2.Canny(blur, 50, 150)\n",
    "    return canny"
   ]
  },
  {
   "cell_type": "code",
   "execution_count": 3,
   "id": "7d39c0f1",
   "metadata": {},
   "outputs": [],
   "source": [
    "def region_of_interest(image):\n",
    "    height = image.shape[0]\n",
    "    polygons = np.array([\n",
    "        [(200, height), (1100, height), (550, 250)]\n",
    "        ])\n",
    "    mask = np.zeros_like(image)\n",
    "    cv2.fillPoly(mask, polygons, 255)\n",
    "    masked_image = cv2.bitwise_and(image, mask)\n",
    "    return masked_image"
   ]
  },
  {
   "cell_type": "code",
   "execution_count": 4,
   "id": "e2b7299b",
   "metadata": {},
   "outputs": [],
   "source": [
    "def create_coordinates(image, line_parameters):\n",
    "    slope, intercept = line_parameters\n",
    "    y1 = image.shape[0]\n",
    "    y2 = int(y1 * (3 / 5))\n",
    "    x1 = int((y1 - intercept) / slope)\n",
    "    x2 = int((y2 - intercept) / slope)\n",
    "    return np.array([x1, y1, x2, y2])"
   ]
  },
  {
   "cell_type": "code",
   "execution_count": 5,
   "id": "28b18e70",
   "metadata": {},
   "outputs": [],
   "source": [
    "def average_slope_intercept(image, lines):\n",
    "    left_fit = []\n",
    "    right_fit = []\n",
    "    for line in lines:\n",
    "        x1, y1, x2, y2 = line.reshape(4)\n",
    "        parameters = np.polyfit((x1, x2), (y1, y2), 1)\n",
    "        slope = parameters[0]\n",
    "        intercept = parameters[1]\n",
    "        if slope < 0:\n",
    "            left_fit.append((slope, intercept))\n",
    "        else:\n",
    "            right_fit.append((slope, intercept))\n",
    "        left_fit_average = np.average(left_fit, axis = 0)\n",
    "    right_fit_average = np.average(right_fit, axis = 0)\n",
    "    left_line = create_coordinates(image, left_fit_average)\n",
    "    right_line = create_coordinates(image, right_fit_average)\n",
    "    return np.array([left_line, right_line])"
   ]
  },
  {
   "cell_type": "code",
   "execution_count": 6,
   "id": "7b4aba0d",
   "metadata": {},
   "outputs": [],
   "source": [
    "def display_lines(image, lines):\n",
    "    line_image = np.zeros_like(image)\n",
    "    if lines is not None:\n",
    "        for x1, y1, x2, y2 in lines:\n",
    "            cv2.line(line_image, (x1, y1), (x2, y2), (255, 0, 0), 10)\n",
    "    return line_image"
   ]
  },
  {
   "cell_type": "code",
   "execution_count": 7,
   "id": "c56a8e81",
   "metadata": {},
   "outputs": [],
   "source": [
    "# Path of dataset directory\n",
    "cap = cv2.VideoCapture(\"datasets\\test2.mp4\")\n",
    "while(cap.isOpened()):\n",
    "    _, frame = cap.read()\n",
    "    canny_image = canny_edge_detector(frame)\n",
    "    cropped_image = region_of_interest(canny_image)\n",
    "    \n",
    "    lines = cv2.HoughLinesP(cropped_image, 2, np.pi / 180, 100,\n",
    "        np.array([]), minLineLength = 40,\n",
    "        maxLineGap = 5)\n",
    "    \n",
    "    averaged_lines = average_slope_intercept(frame, lines)\n",
    "    line_image = display_lines(frame, averaged_lines)\n",
    "    combo_image = cv2.addWeighted(frame, 0.8, line_image, 1, 1)\n",
    "    cv2.imshow(\"results\", combo_image)\n",
    "    \n",
    "    # When the below two will be true and will press the 'q' on\n",
    "    # our keyboard, we will break out from the loop\n",
    "    # # wait 0 will wait for infinitely between each frames.\n",
    "    # 1ms will wait for the specified time only between each frames\n",
    "    if cv2.waitKey(1) & 0xFF == ord('q'):\t\n",
    "        break\n",
    "\n",
    "# close the video file\n",
    "cap.release()\n",
    "\n",
    "# destroy all the windows that is currently on\n",
    "cv2.destroyAllWindows()"
   ]
  },
  {
   "cell_type": "code",
   "execution_count": null,
   "id": "e209ec00",
   "metadata": {},
   "outputs": [],
   "source": []
  }
 ],
 "metadata": {
  "kernelspec": {
   "display_name": "Python 3",
   "language": "python",
   "name": "python3"
  },
  "language_info": {
   "codemirror_mode": {
    "name": "ipython",
    "version": 3
   },
   "file_extension": ".py",
   "mimetype": "text/x-python",
   "name": "python",
   "nbconvert_exporter": "python",
   "pygments_lexer": "ipython3",
   "version": "3.9.5"
  }
 },
 "nbformat": 4,
 "nbformat_minor": 5
}
